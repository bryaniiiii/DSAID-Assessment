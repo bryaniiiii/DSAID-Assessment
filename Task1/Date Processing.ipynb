{
 "cells": [
  {
   "cell_type": "code",
   "execution_count": 83,
   "id": "19cac96b",
   "metadata": {},
   "outputs": [],
   "source": [
    "import pandas as pd"
   ]
  },
  {
   "cell_type": "code",
   "execution_count": 84,
   "id": "27973c4a",
   "metadata": {},
   "outputs": [],
   "source": [
    "df1 = pd.read_csv('dataset1.csv')"
   ]
  },
  {
   "cell_type": "code",
   "execution_count": 85,
   "id": "16894250",
   "metadata": {},
   "outputs": [],
   "source": [
    "df2 = pd.read_csv('dataset2.csv')"
   ]
  },
  {
   "cell_type": "code",
   "execution_count": 86,
   "id": "0376b48b",
   "metadata": {},
   "outputs": [
    {
     "data": {
      "text/html": [
       "<div>\n",
       "<style scoped>\n",
       "    .dataframe tbody tr th:only-of-type {\n",
       "        vertical-align: middle;\n",
       "    }\n",
       "\n",
       "    .dataframe tbody tr th {\n",
       "        vertical-align: top;\n",
       "    }\n",
       "\n",
       "    .dataframe thead th {\n",
       "        text-align: right;\n",
       "    }\n",
       "</style>\n",
       "<table border=\"1\" class=\"dataframe\">\n",
       "  <thead>\n",
       "    <tr style=\"text-align: right;\">\n",
       "      <th></th>\n",
       "      <th>name</th>\n",
       "      <th>price</th>\n",
       "    </tr>\n",
       "  </thead>\n",
       "  <tbody>\n",
       "  </tbody>\n",
       "</table>\n",
       "</div>"
      ],
      "text/plain": [
       "Empty DataFrame\n",
       "Columns: [name, price]\n",
       "Index: []"
      ]
     },
     "execution_count": 86,
     "metadata": {},
     "output_type": "execute_result"
    }
   ],
   "source": [
    "df1[df1.price.isna()]\n",
    "df2[df2.price.isna()]"
   ]
  },
  {
   "cell_type": "code",
   "execution_count": 87,
   "id": "bb69f133",
   "metadata": {},
   "outputs": [
    {
     "data": {
      "text/html": [
       "<div>\n",
       "<style scoped>\n",
       "    .dataframe tbody tr th:only-of-type {\n",
       "        vertical-align: middle;\n",
       "    }\n",
       "\n",
       "    .dataframe tbody tr th {\n",
       "        vertical-align: top;\n",
       "    }\n",
       "\n",
       "    .dataframe thead th {\n",
       "        text-align: right;\n",
       "    }\n",
       "</style>\n",
       "<table border=\"1\" class=\"dataframe\">\n",
       "  <thead>\n",
       "    <tr style=\"text-align: right;\">\n",
       "      <th></th>\n",
       "      <th>name</th>\n",
       "      <th>price</th>\n",
       "    </tr>\n",
       "  </thead>\n",
       "  <tbody>\n",
       "  </tbody>\n",
       "</table>\n",
       "</div>"
      ],
      "text/plain": [
       "Empty DataFrame\n",
       "Columns: [name, price]\n",
       "Index: []"
      ]
     },
     "execution_count": 87,
     "metadata": {},
     "output_type": "execute_result"
    }
   ],
   "source": [
    "df1[df1.name.isna()]"
   ]
  },
  {
   "cell_type": "code",
   "execution_count": 88,
   "id": "b94e5c42",
   "metadata": {},
   "outputs": [
    {
     "data": {
      "text/html": [
       "<div>\n",
       "<style scoped>\n",
       "    .dataframe tbody tr th:only-of-type {\n",
       "        vertical-align: middle;\n",
       "    }\n",
       "\n",
       "    .dataframe tbody tr th {\n",
       "        vertical-align: top;\n",
       "    }\n",
       "\n",
       "    .dataframe thead th {\n",
       "        text-align: right;\n",
       "    }\n",
       "</style>\n",
       "<table border=\"1\" class=\"dataframe\">\n",
       "  <thead>\n",
       "    <tr style=\"text-align: right;\">\n",
       "      <th></th>\n",
       "      <th>name</th>\n",
       "      <th>price</th>\n",
       "    </tr>\n",
       "  </thead>\n",
       "  <tbody>\n",
       "    <tr>\n",
       "      <th>112</th>\n",
       "      <td>NaN</td>\n",
       "      <td>Mr. Manuel Mcfarland Jr.</td>\n",
       "    </tr>\n",
       "    <tr>\n",
       "      <th>128</th>\n",
       "      <td>NaN</td>\n",
       "      <td>Mr. Brian Bradley</td>\n",
       "    </tr>\n",
       "    <tr>\n",
       "      <th>200</th>\n",
       "      <td>NaN</td>\n",
       "      <td>Mr. Trevor Smith</td>\n",
       "    </tr>\n",
       "    <tr>\n",
       "      <th>224</th>\n",
       "      <td>NaN</td>\n",
       "      <td>Mr. Tracy Davis MD</td>\n",
       "    </tr>\n",
       "    <tr>\n",
       "      <th>740</th>\n",
       "      <td>NaN</td>\n",
       "      <td>Mr. Jake Ortiz</td>\n",
       "    </tr>\n",
       "    <tr>\n",
       "      <th>770</th>\n",
       "      <td>NaN</td>\n",
       "      <td>Mr. James Gay</td>\n",
       "    </tr>\n",
       "    <tr>\n",
       "      <th>899</th>\n",
       "      <td>NaN</td>\n",
       "      <td>Mr. Kenneth Robinson</td>\n",
       "    </tr>\n",
       "    <tr>\n",
       "      <th>953</th>\n",
       "      <td>NaN</td>\n",
       "      <td>Mr. James Kaiser</td>\n",
       "    </tr>\n",
       "    <tr>\n",
       "      <th>988</th>\n",
       "      <td>NaN</td>\n",
       "      <td>Mr. Anthony Dixon</td>\n",
       "    </tr>\n",
       "    <tr>\n",
       "      <th>1014</th>\n",
       "      <td>NaN</td>\n",
       "      <td>Mr. Eddie Hendrix DDS</td>\n",
       "    </tr>\n",
       "    <tr>\n",
       "      <th>1346</th>\n",
       "      <td>NaN</td>\n",
       "      <td>Mr. Gregory Horn</td>\n",
       "    </tr>\n",
       "    <tr>\n",
       "      <th>1400</th>\n",
       "      <td>NaN</td>\n",
       "      <td>Mr. Donald Sanchez</td>\n",
       "    </tr>\n",
       "    <tr>\n",
       "      <th>1627</th>\n",
       "      <td>NaN</td>\n",
       "      <td>Mr. Tyler Love</td>\n",
       "    </tr>\n",
       "    <tr>\n",
       "      <th>1646</th>\n",
       "      <td>NaN</td>\n",
       "      <td>Mr. Joseph Scott</td>\n",
       "    </tr>\n",
       "    <tr>\n",
       "      <th>1662</th>\n",
       "      <td>NaN</td>\n",
       "      <td>Mr. David Jones</td>\n",
       "    </tr>\n",
       "    <tr>\n",
       "      <th>1771</th>\n",
       "      <td>NaN</td>\n",
       "      <td>Mr. Robert Spence</td>\n",
       "    </tr>\n",
       "    <tr>\n",
       "      <th>2298</th>\n",
       "      <td>NaN</td>\n",
       "      <td>Mr. Jesse Hawkins Jr.</td>\n",
       "    </tr>\n",
       "    <tr>\n",
       "      <th>2376</th>\n",
       "      <td>NaN</td>\n",
       "      <td>Mr. Paul Pope</td>\n",
       "    </tr>\n",
       "    <tr>\n",
       "      <th>2385</th>\n",
       "      <td>NaN</td>\n",
       "      <td>Mr. Charles Arroyo</td>\n",
       "    </tr>\n",
       "    <tr>\n",
       "      <th>2453</th>\n",
       "      <td>NaN</td>\n",
       "      <td>Mr. Alex Zamora</td>\n",
       "    </tr>\n",
       "    <tr>\n",
       "      <th>2618</th>\n",
       "      <td>NaN</td>\n",
       "      <td>Mr. Michael Evans</td>\n",
       "    </tr>\n",
       "    <tr>\n",
       "      <th>2655</th>\n",
       "      <td>NaN</td>\n",
       "      <td>Mr. Matthew Bailey MD</td>\n",
       "    </tr>\n",
       "    <tr>\n",
       "      <th>2866</th>\n",
       "      <td>NaN</td>\n",
       "      <td>Mr. Michael Vaughn</td>\n",
       "    </tr>\n",
       "    <tr>\n",
       "      <th>2984</th>\n",
       "      <td>NaN</td>\n",
       "      <td>Mr. Billy Morgan</td>\n",
       "    </tr>\n",
       "    <tr>\n",
       "      <th>3004</th>\n",
       "      <td>NaN</td>\n",
       "      <td>Mr. Michael Frey</td>\n",
       "    </tr>\n",
       "    <tr>\n",
       "      <th>3027</th>\n",
       "      <td>NaN</td>\n",
       "      <td>Mr. Jack Morales</td>\n",
       "    </tr>\n",
       "    <tr>\n",
       "      <th>3083</th>\n",
       "      <td>NaN</td>\n",
       "      <td>Mr. Michael Garcia</td>\n",
       "    </tr>\n",
       "    <tr>\n",
       "      <th>3278</th>\n",
       "      <td>NaN</td>\n",
       "      <td>Mr. Michael Brown</td>\n",
       "    </tr>\n",
       "    <tr>\n",
       "      <th>3334</th>\n",
       "      <td>NaN</td>\n",
       "      <td>Mr. Paul Porter MD</td>\n",
       "    </tr>\n",
       "    <tr>\n",
       "      <th>3382</th>\n",
       "      <td>NaN</td>\n",
       "      <td>Mr. Steven Hayes DDS</td>\n",
       "    </tr>\n",
       "    <tr>\n",
       "      <th>3411</th>\n",
       "      <td>NaN</td>\n",
       "      <td>Mr. Thomas Guzman</td>\n",
       "    </tr>\n",
       "    <tr>\n",
       "      <th>3539</th>\n",
       "      <td>NaN</td>\n",
       "      <td>Mr. Michael Maynard</td>\n",
       "    </tr>\n",
       "    <tr>\n",
       "      <th>3542</th>\n",
       "      <td>NaN</td>\n",
       "      <td>Mr. Christopher Mann PhD</td>\n",
       "    </tr>\n",
       "    <tr>\n",
       "      <th>3792</th>\n",
       "      <td>NaN</td>\n",
       "      <td>Mr. Jeffrey King</td>\n",
       "    </tr>\n",
       "    <tr>\n",
       "      <th>3829</th>\n",
       "      <td>NaN</td>\n",
       "      <td>Mr. Harold Reese PhD</td>\n",
       "    </tr>\n",
       "    <tr>\n",
       "      <th>3958</th>\n",
       "      <td>NaN</td>\n",
       "      <td>Mr. Justin Suarez</td>\n",
       "    </tr>\n",
       "    <tr>\n",
       "      <th>4008</th>\n",
       "      <td>NaN</td>\n",
       "      <td>Mr. Paul Walker</td>\n",
       "    </tr>\n",
       "    <tr>\n",
       "      <th>4197</th>\n",
       "      <td>NaN</td>\n",
       "      <td>Mr. Allen Hernandez</td>\n",
       "    </tr>\n",
       "    <tr>\n",
       "      <th>4214</th>\n",
       "      <td>NaN</td>\n",
       "      <td>Mr. Joshua Simmons</td>\n",
       "    </tr>\n",
       "  </tbody>\n",
       "</table>\n",
       "</div>"
      ],
      "text/plain": [
       "     name                     price\n",
       "112   NaN  Mr. Manuel Mcfarland Jr.\n",
       "128   NaN         Mr. Brian Bradley\n",
       "200   NaN          Mr. Trevor Smith\n",
       "224   NaN        Mr. Tracy Davis MD\n",
       "740   NaN            Mr. Jake Ortiz\n",
       "770   NaN             Mr. James Gay\n",
       "899   NaN      Mr. Kenneth Robinson\n",
       "953   NaN          Mr. James Kaiser\n",
       "988   NaN         Mr. Anthony Dixon\n",
       "1014  NaN     Mr. Eddie Hendrix DDS\n",
       "1346  NaN          Mr. Gregory Horn\n",
       "1400  NaN        Mr. Donald Sanchez\n",
       "1627  NaN            Mr. Tyler Love\n",
       "1646  NaN          Mr. Joseph Scott\n",
       "1662  NaN           Mr. David Jones\n",
       "1771  NaN         Mr. Robert Spence\n",
       "2298  NaN     Mr. Jesse Hawkins Jr.\n",
       "2376  NaN             Mr. Paul Pope\n",
       "2385  NaN        Mr. Charles Arroyo\n",
       "2453  NaN           Mr. Alex Zamora\n",
       "2618  NaN         Mr. Michael Evans\n",
       "2655  NaN     Mr. Matthew Bailey MD\n",
       "2866  NaN        Mr. Michael Vaughn\n",
       "2984  NaN          Mr. Billy Morgan\n",
       "3004  NaN          Mr. Michael Frey\n",
       "3027  NaN          Mr. Jack Morales\n",
       "3083  NaN        Mr. Michael Garcia\n",
       "3278  NaN         Mr. Michael Brown\n",
       "3334  NaN        Mr. Paul Porter MD\n",
       "3382  NaN      Mr. Steven Hayes DDS\n",
       "3411  NaN         Mr. Thomas Guzman\n",
       "3539  NaN       Mr. Michael Maynard\n",
       "3542  NaN  Mr. Christopher Mann PhD\n",
       "3792  NaN          Mr. Jeffrey King\n",
       "3829  NaN      Mr. Harold Reese PhD\n",
       "3958  NaN         Mr. Justin Suarez\n",
       "4008  NaN           Mr. Paul Walker\n",
       "4197  NaN       Mr. Allen Hernandez\n",
       "4214  NaN        Mr. Joshua Simmons"
      ]
     },
     "execution_count": 88,
     "metadata": {},
     "output_type": "execute_result"
    }
   ],
   "source": [
    "df2[df2.name.isna()]"
   ]
  },
  {
   "cell_type": "code",
   "execution_count": 89,
   "id": "7a75651b",
   "metadata": {},
   "outputs": [],
   "source": [
    "df1.dropna(subset=['name'],inplace=True)\n",
    "df2.dropna(subset=['name'],inplace=True)"
   ]
  },
  {
   "cell_type": "code",
   "execution_count": 91,
   "id": "1b07c546",
   "metadata": {},
   "outputs": [
    {
     "data": {
      "text/html": [
       "<div>\n",
       "<style scoped>\n",
       "    .dataframe tbody tr th:only-of-type {\n",
       "        vertical-align: middle;\n",
       "    }\n",
       "\n",
       "    .dataframe tbody tr th {\n",
       "        vertical-align: top;\n",
       "    }\n",
       "\n",
       "    .dataframe thead th {\n",
       "        text-align: right;\n",
       "    }\n",
       "</style>\n",
       "<table border=\"1\" class=\"dataframe\">\n",
       "  <thead>\n",
       "    <tr style=\"text-align: right;\">\n",
       "      <th></th>\n",
       "      <th>name</th>\n",
       "      <th>price</th>\n",
       "    </tr>\n",
       "  </thead>\n",
       "  <tbody>\n",
       "  </tbody>\n",
       "</table>\n",
       "</div>"
      ],
      "text/plain": [
       "Empty DataFrame\n",
       "Columns: [name, price]\n",
       "Index: []"
      ]
     },
     "execution_count": 91,
     "metadata": {},
     "output_type": "execute_result"
    }
   ],
   "source": [
    "df1[df1.name.isna()]"
   ]
  },
  {
   "cell_type": "code",
   "execution_count": 92,
   "id": "d9a7cef9",
   "metadata": {},
   "outputs": [
    {
     "data": {
      "text/html": [
       "<div>\n",
       "<style scoped>\n",
       "    .dataframe tbody tr th:only-of-type {\n",
       "        vertical-align: middle;\n",
       "    }\n",
       "\n",
       "    .dataframe tbody tr th {\n",
       "        vertical-align: top;\n",
       "    }\n",
       "\n",
       "    .dataframe thead th {\n",
       "        text-align: right;\n",
       "    }\n",
       "</style>\n",
       "<table border=\"1\" class=\"dataframe\">\n",
       "  <thead>\n",
       "    <tr style=\"text-align: right;\">\n",
       "      <th></th>\n",
       "      <th>name</th>\n",
       "      <th>price</th>\n",
       "    </tr>\n",
       "  </thead>\n",
       "  <tbody>\n",
       "  </tbody>\n",
       "</table>\n",
       "</div>"
      ],
      "text/plain": [
       "Empty DataFrame\n",
       "Columns: [name, price]\n",
       "Index: []"
      ]
     },
     "execution_count": 92,
     "metadata": {},
     "output_type": "execute_result"
    }
   ],
   "source": [
    "df2[df2.name.isna()]"
   ]
  },
  {
   "cell_type": "code",
   "execution_count": 93,
   "id": "e4d96cdf",
   "metadata": {},
   "outputs": [],
   "source": [
    "df1[['first_name','last_name']] = df1['name'].loc[df1['name'].str.split().str.len() == 2].str.split(expand=True)"
   ]
  },
  {
   "cell_type": "code",
   "execution_count": 94,
   "id": "c00012d7",
   "metadata": {},
   "outputs": [
    {
     "data": {
      "text/plain": [
       "array([False, False, False, False])"
      ]
     },
     "execution_count": 94,
     "metadata": {},
     "output_type": "execute_result"
    }
   ],
   "source": [
    "df1.columns.isna()"
   ]
  },
  {
   "cell_type": "code",
   "execution_count": 95,
   "id": "46d11149",
   "metadata": {},
   "outputs": [],
   "source": [
    "df2[['first_name','last_name']] = df2['name'].loc[df2['name'].str.split().str.len() == 2].str.split(expand=True)"
   ]
  },
  {
   "cell_type": "code",
   "execution_count": 96,
   "id": "54cd855b",
   "metadata": {},
   "outputs": [
    {
     "data": {
      "text/plain": [
       "array([False, False, False, False])"
      ]
     },
     "execution_count": 96,
     "metadata": {},
     "output_type": "execute_result"
    }
   ],
   "source": [
    "df2.columns.isna()"
   ]
  },
  {
   "cell_type": "code",
   "execution_count": 97,
   "id": "2a590dec",
   "metadata": {},
   "outputs": [],
   "source": [
    "df1['price'] = df1['price'].astype('string')\n",
    "df2['price'] = df2['price'].astype('string')"
   ]
  },
  {
   "cell_type": "code",
   "execution_count": 98,
   "id": "ac2f3321",
   "metadata": {},
   "outputs": [
    {
     "name": "stderr",
     "output_type": "stream",
     "text": [
      "C:\\Users\\Bryan\\AppData\\Local\\Temp/ipykernel_5468/476253799.py:1: FutureWarning: The default value of regex will change from True to False in a future version.\n",
      "  df1['price'].str.replace(r'^(0+)', '').fillna('0')\n",
      "C:\\Users\\Bryan\\AppData\\Local\\Temp/ipykernel_5468/476253799.py:2: FutureWarning: The default value of regex will change from True to False in a future version.\n",
      "  df2['price'].str.replace(r'^(0+)', '').fillna('0')\n"
     ]
    },
    {
     "data": {
      "text/plain": [
       "0       258.1809089\n",
       "1        141.890534\n",
       "2        293.373272\n",
       "3       249.9479246\n",
       "4        272.908659\n",
       "           ...     \n",
       "4995    95.25395533\n",
       "4996    205.3966853\n",
       "4997    80.54737145\n",
       "4998    93.20561606\n",
       "4999     297.046886\n",
       "Name: price, Length: 4961, dtype: string"
      ]
     },
     "execution_count": 98,
     "metadata": {},
     "output_type": "execute_result"
    }
   ],
   "source": [
    "df1['price'].str.replace(r'^(0+)', '').fillna('0')\n",
    "df2['price'].str.replace(r'^(0+)', '').fillna('0')"
   ]
  },
  {
   "cell_type": "code",
   "execution_count": 99,
   "id": "21e545b9",
   "metadata": {},
   "outputs": [],
   "source": [
    "df1['price'] = df1['price'].astype('float64')\n",
    "df2['price'] = df2['price'].astype('float64')"
   ]
  },
  {
   "cell_type": "code",
   "execution_count": 100,
   "id": "11a69d0a",
   "metadata": {},
   "outputs": [],
   "source": [
    "df1['above_100'] = False\n",
    "df1.loc[df1['price']>100,'above_100'] = True"
   ]
  },
  {
   "cell_type": "code",
   "execution_count": 101,
   "id": "d9b73483",
   "metadata": {},
   "outputs": [],
   "source": [
    "df2['above_100'] = False\n",
    "df2.loc[df2['price']>100,'above_100'] = True"
   ]
  },
  {
   "cell_type": "code",
   "execution_count": 102,
   "id": "5682bdb6",
   "metadata": {},
   "outputs": [],
   "source": [
    "df1.to_csv('dataset1_clean.csv')"
   ]
  },
  {
   "cell_type": "code",
   "execution_count": 103,
   "id": "9c3b960e",
   "metadata": {},
   "outputs": [],
   "source": [
    "df2.to_csv('dataset2_clean.csv')"
   ]
  },
  {
   "cell_type": "code",
   "execution_count": null,
   "id": "1cd6557b",
   "metadata": {},
   "outputs": [],
   "source": []
  }
 ],
 "metadata": {
  "kernelspec": {
   "display_name": "Python 3.9.13 64-bit (windows store)",
   "language": "python",
   "name": "python3"
  },
  "language_info": {
   "codemirror_mode": {
    "name": "ipython",
    "version": 3
   },
   "file_extension": ".py",
   "mimetype": "text/x-python",
   "name": "python",
   "nbconvert_exporter": "python",
   "pygments_lexer": "ipython3",
   "version": "3.9.13"
  },
  "vscode": {
   "interpreter": {
    "hash": "2f4fbe936bffdda500ef7f6fb12ac3de9b43b36c09ec309682fa057aa680a8a0"
   }
  }
 },
 "nbformat": 4,
 "nbformat_minor": 5
}
